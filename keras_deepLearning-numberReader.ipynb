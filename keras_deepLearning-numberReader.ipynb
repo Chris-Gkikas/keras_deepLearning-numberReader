{
 "cells": [
  {
   "cell_type": "code",
   "execution_count": 28,
   "metadata": {},
   "outputs": [
    {
     "name": "stdout",
     "output_type": "stream",
     "text": [
      "Epoch 1/3\n",
      "60000/60000 [==============================]60000/60000 [==============================] - 17s 277us/step - loss: 0.2660 - acc: 0.9205\n",
      "\n",
      "Epoch 2/3\n",
      "60000/60000 [==============================]60000/60000 [==============================] - 16s 260us/step - loss: 0.1083 - acc: 0.9670\n",
      "\n",
      "Epoch 3/3\n",
      "60000/60000 [==============================]60000/60000 [==============================] - 14s 238us/step - loss: 0.0746 - acc: 0.9766\n",
      "\n",
      "10000/10000 [==============================]10000/10000 [==============================] - 1s 97us/step\n",
      "\n",
      "0.092192802907 0.971\n",
      "7\n"
     ]
    },
    {
     "data": {
      "image/png": "[encoded data removed]",
      "text/plain": [
       "<matplotlib.figure.Figure at 0x7f943fce4d68>"
      ]
     },
     "metadata": {},
     "output_type": "display_data"
    }
   ],
   "source": [
    "import tensorflow as tf\n",
    "import numpy as np\n",
    "import matplotlib.pyplot as plt\n",
    "\n",
    "mnist = tf.keras.datasets.mnist #dataset of 28x28 images of hand-written digits 0-9\n",
    "\n",
    "(x_train, y_train), (x_test, y_test) = mnist.load_data() # unpack the dataset, x_train=pixel values of the 28x28px images, y_train= labels(0-9)\n",
    "\n",
    "x_train = tf.keras.utils.normalize(x_train, axis= 1) # normalize so tha the values are scaled between 0 and 1(it makes it easier for a network to learn, comment those to lines to see how it affects the kearning process)\n",
    "x_test = tf.keras.utils.normalize(x_test, axis=1)\n",
    "\n",
    "model = tf.keras.models.Sequential() #build the model\n",
    "model.add(tf.keras.layers.Flatten(input_shape=(28,28))) #input layer \n",
    "\n",
    "model.add(tf.keras.layers.Dense(128, activation=tf.nn.relu)) # a \"fully connected\" first hidden layer of 128 neurons\n",
    "model.add(tf.keras.layers.Dense(128, activation=tf.nn.relu)) # a \"fully connected\" second hidden layer of 128 neurons\n",
    "\n",
    "model.add(tf.keras.layers.Dense(10, activation=tf.nn.softmax)) # output layer, 10 classifications\n",
    "\n",
    "#training parameters\n",
    "model.compile(optimizer='adam',\n",
    "             loss='sparse_categorical_crossentropy',\n",
    "             metrics=['accuracy'])\n",
    "\n",
    "\n",
    "model.fit(x_train, y_train, epochs=3) #train the model\n",
    "\n",
    "val_loss, val_acc = model.evaluate(x_test, y_test)\n",
    "print(val_loss, val_acc) # does it overfit?? we expect slightly higher loss and slightly less accuracy. TODO: search why huge delta-> probably overfit\n",
    "\n",
    "model.save('begginerNumberReader.model')\n",
    "\n",
    "new_model = tf.keras.models.load_model('begginerNumberReader.model')\n",
    "\n",
    "predictions = new_model.predict([x_test]) # predictions are probability distributions\n",
    "\n",
    "print(np.argmax(predictions[0])) # let's see the prediction of the 0th element\n",
    "plt.imshow(x_test[0]) \n",
    "plt.show() # an image worth of a thousand words(or numbers:P)"
   ]
  },
  {
   "cell_type": "code",
   "execution_count": 12,
   "metadata": {},
   "outputs": [
    {
     "name": "stdout",
     "output_type": "stream",
     "text": [
      "10000/10000 [==============================]10000/10000 [==============================] - 1s 88us/step\n",
      "\n",
      "0.10015199437 0.9696\n"
     ]
    }
   ],
   "source": [
    "val_loss, val_acc = model.evaluate(x_test, y_test)\n",
    "print(val_loss, val_acc)"
   ]
  },
  {
   "cell_type": "code",
   "execution_count": 13,
   "metadata": {},
   "outputs": [],
   "source": [
    "model.save('myFirstLittleTinyBabyUltraBegginerNumberReader.model')"
   ]
  },
  {
   "cell_type": "code",
   "execution_count": 14,
   "metadata": {},
   "outputs": [],
   "source": [
    "new_model = tf.keras.models.load_model('myFirstLittleTinyBabyUltraBegginerNumberReader.model')"
   ]
  },
  {
   "cell_type": "code",
   "execution_count": 15,
   "metadata": {},
   "outputs": [],
   "source": [
    "predictions = new_model.predict([x_test])"
   ]
  },
  {
   "cell_type": "code",
   "execution_count": 25,
   "metadata": {},
   "outputs": [
    {
     "name": "stdout",
     "output_type": "stream",
     "text": [
      "7\n"
     ]
    },
    {
     "data": {
      "image/png": "[encoded data removed]",
      "text/plain": [
       "<matplotlib.figure.Figure at 0x7f943b500630>"
      ]
     },
     "metadata": {},
     "output_type": "display_data"
    }
   ],
   "source": [
    "import numpy as np\n",
    "import matplotlib.pyplot as plt\n",
    "\n",
    "print(np.argmax(predictions[0]))\n",
    "plt.imshow(x_test[7])\n",
    "plt.show()\n"
   ]
  },
  {
   "cell_type": "code",
   "execution_count": 19,
   "metadata": {},
   "outputs": [
    {
     "ename": "NameError",
     "evalue": "name 'plt' is not defined",
     "output_type": "error",
     "traceback": [
      "\u001b[0;31m---------------------------------------------------------------------------\u001b[0m",
      "\u001b[0;31mNameError\u001b[0m                                 Traceback (most recent call last)",
      "\u001b[0;32m<ipython-input-19-cc3003cb8e3e>\u001b[0m in \u001b[0;36m<module>\u001b[0;34m()\u001b[0m\n\u001b[0;32m----> 1\u001b[0;31m \u001b[0mplt\u001b[0m\u001b[0;34m.\u001b[0m\u001b[0mimshow\u001b[0m\u001b[0;34m(\u001b[0m\u001b[0mx_test\u001b[0m\u001b[0;34m[\u001b[0m\u001b[0;36m0\u001b[0m\u001b[0;34m]\u001b[0m\u001b[0;34m)\u001b[0m\u001b[0;34m\u001b[0m\u001b[0m\n\u001b[0m\u001b[1;32m      2\u001b[0m \u001b[0mplt\u001b[0m\u001b[0;34m.\u001b[0m\u001b[0mshow\u001b[0m\u001b[0;34m(\u001b[0m\u001b[0;34m)\u001b[0m\u001b[0;34m\u001b[0m\u001b[0m\n",
      "\u001b[0;31mNameError\u001b[0m: name 'plt' is not defined"
     ]
    }
   ],
   "source": [
    "plt.imshow(x_test[0])\n",
    "plt.show()\n"
   ]
  },
  {
   "cell_type": "code",
   "execution_count": null,
   "metadata": {},
   "outputs": [],
   "source": []
  }
 ],
 "metadata": {
  "kernelspec": {
   "display_name": "Python 3",
   "language": "python",
   "name": "python3"
  },
  "language_info": {
   "codemirror_mode": {
    "name": "ipython",
    "version": 3
   },
   "file_extension": ".py",
   "mimetype": "text/x-python",
   "name": "python",
   "nbconvert_exporter": "python",
   "pygments_lexer": "ipython3",
   "version": "3.5.3"
  }
 },
 "nbformat": 4,
 "nbformat_minor": 2
}
